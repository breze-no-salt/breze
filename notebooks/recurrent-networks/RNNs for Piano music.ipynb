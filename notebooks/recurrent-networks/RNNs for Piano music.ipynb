{
 "metadata": {
  "name": "",
  "signature": "sha256:987fcf24ed2c66b37c899c9cd32e820e0baf834d4143bb61411dfb133d9a6b40"
 },
 "nbformat": 3,
 "nbformat_minor": 0,
 "worksheets": [
  {
   "cells": [
    {
     "cell_type": "code",
     "collapsed": false,
     "input": [
      "import cPickle\n",
      "import math\n",
      "import time\n",
      "\n",
      "import numpy as np\n",
      "import theano.tensor as T\n",
      "\n",
      "from breze.learn.data import interleave, padzeros, split\n",
      "\n",
      "from breze.learn import base\n",
      "from breze.learn.rnn import SupervisedFastDropoutRnn, SupervisedRnn\n",
      "import breze.learn.display as D\n",
      "\n",
      "import climin.initialize\n",
      "import climin.stops\n",
      "import climin.mathadapt as ma"
     ],
     "language": "python",
     "metadata": {},
     "outputs": [],
     "prompt_number": 1
    },
    {
     "cell_type": "code",
     "collapsed": false,
     "input": [
      "SIZE = 108 - 21 + 1\n",
      "\n",
      "\n",
      "def masked(idxs):\n",
      "    x = np.zeros(SIZE)\n",
      "    x[(np.array(idxs) - 21).tolist()] = 1\n",
      "    return x\n",
      "\n",
      "\n",
      "def rolls_from_sequences(seqs):\n",
      "    x = []\n",
      "    for seq in seqs:\n",
      "        x.append([])\n",
      "        for item in seq:\n",
      "            x[-1].append(masked(item))\n",
      "        x[-1] = np.array(x[-1])\n",
      "    return x\n",
      "\n",
      "\n",
      "def load_data(handle):\n",
      "    with open('%s.pickle' % handle) as fp:\n",
      "        data = cPickle.load(fp)\n",
      "\n",
      "    train, valid, test = data['train'], data['valid'], data['test']\n",
      "\n",
      "    x = rolls_from_sequences(data['train'])\n",
      "    vx = rolls_from_sequences(data['valid'])\n",
      "    tx = rolls_from_sequences(data['test'])\n",
      "\n",
      "    print 'size of x', sum([i.size for i in x])\n",
      "    print 'size of vx', sum([i.size for i in vx])\n",
      "\n",
      "    x = split(x, 100)\n",
      "    vx = split(vx, 100)\n",
      "\n",
      "    # Standardize.\n",
      "    #scaler = StandardScaler()\n",
      "    #x, (vx, tx) = static_transform([scaler], x, [vx, tx])\n",
      "\n",
      "    X = interleave(padzeros(x, False))\n",
      "    VX = interleave(padzeros(vx, False))\n",
      "\n",
      "    print 'size of X', X.size\n",
      "    print 'size of VX', VX.size\n",
      "\n",
      "    Z, VZ, tz = X[1:], VX[1:], [i[1:] for i in tx]\n",
      "    X, VX, tx = X[:-1], VX[:-1], [i[:-1] for i in tx]\n",
      "\n",
      "    X, VX, Z, VZ = [base.cast_array_to_local_type(i) for i in (X, VX, Z, VZ)]\n",
      "    tx = [base.cast_array_to_local_type(i) for i in tx]\n",
      "    tz = [base.cast_array_to_local_type(i) for i in tz]\n",
      "\n",
      "    print 'training shape', X.shape\n",
      "    print 'validation shape', VX.shape\n",
      "\n",
      "    return X, Z, VX, VZ, tx, tz\n",
      "\n",
      "X, Z, VX, VZ, tx, tz = load_data('JSBChorales')\n"
     ],
     "language": "python",
     "metadata": {},
     "outputs": [
      {
       "output_type": "stream",
       "stream": "stdout",
       "text": [
        "size of x 1215016\n",
        "size of vx 404976\n",
        "size of X 2138400\n",
        "size of VX 730400\n",
        "training shape (99, 243, 88)\n",
        "validation shape (99, 83, 88)\n"
       ]
      }
     ],
     "prompt_number": 2
    },
    {
     "cell_type": "markdown",
     "metadata": {},
     "source": [
      "Modelling\n",
      "===\n",
      "\n",
      "Execute one of the following cells representing (a) plain RNNs and (b) LSTM-RNNs and (c) FD-RNNs."
     ]
    },
    {
     "cell_type": "markdown",
     "metadata": {},
     "source": [
      "Plain RNN\n",
      "---"
     ]
    },
    {
     "cell_type": "code",
     "collapsed": false,
     "input": [
      "method = 'fd'    # one of plain, lstm, fd"
     ],
     "language": "python",
     "metadata": {},
     "outputs": [],
     "prompt_number": 3
    },
    {
     "cell_type": "code",
     "collapsed": false,
     "input": [
      "if method == 'plain':\n",
      "    n_layers = 1\n",
      "\n",
      "    #optimizer = 'rmsprop', {'steprate': 0.0001, 'momentum': 0.9, 'decay': 0.9}\n",
      "    #optimizer = 'adadelta', {'decay': 0.9, 'offset': 1e-6, 'momentum': .9, 'steprate': .1}\n",
      "    #optimizer = 'gd', {'steprate': 1e-4, 'momentum': .99, 'momentum_type': 'nesterov'}\n",
      "    optimizer = 'adam'\n",
      "\n",
      "    batch_size = 27\n",
      "\n",
      "    n_hiddens = [100] * n_layers\n",
      "\n",
      "    from breze.arch.component.varprop.transfer import tanh\n",
      "\n",
      "    m = SupervisedRnn(\n",
      "        88, n_hiddens, 88,  out_transfer='sigmoid', loss='bern_ces', \n",
      "        hidden_transfers=['tanh'] * n_layers,\n",
      "        batch_size=batch_size,\n",
      "        optimizer=optimizer)\n",
      "\n",
      "    m.exprs['true_loss'] = m.exprs['loss']\n",
      "\n",
      "    f_loss = m.function(['inpt', 'target'], 'true_loss')\n",
      "\n",
      "    def test_nll():\n",
      "        nll = 0\n",
      "        n_time_steps = 0\n",
      "        for x, z in zip(tx, tz):\n",
      "            nll += f_loss(x[:, np.newaxis], z[:, np.newaxis]) * x.shape[0]\n",
      "            n_time_steps += x.shape[0]\n",
      "        return nll / n_time_steps\n",
      "\n",
      "    infos = []\n",
      "\n",
      "    climin.initialize.randomize_normal(m.parameters.data, 0, 0.01)"
     ],
     "language": "python",
     "metadata": {},
     "outputs": [],
     "prompt_number": 4
    },
    {
     "cell_type": "markdown",
     "metadata": {},
     "source": [
      "LSTM-RNN\n",
      "---"
     ]
    },
    {
     "cell_type": "code",
     "collapsed": false,
     "input": [
      "if method == 'lstm':\n",
      "    optimizer = 'rmsprop', {'steprate': 1e-3, 'momentum': 0.95, 'decay': 0.9}\n",
      "    par_std = 0.001\n",
      "    n_layers = 1\n",
      "    n_hiddens = 50\n",
      "\n",
      "    m = SupervisedLstmRnn(\n",
      "        88, [n_hiddens] * n_layers, 88,  out_transfer='sigmoid', loss='bernoulli_ces', \n",
      "        hidden_transfers=['tanh'],\n",
      "        batch_size=35,\n",
      "        optimizer=optimizer)\n",
      "\n",
      "    climin.initialize.randomize_normal(\n",
      "        m.parameters.data, 0, par_std)\n",
      "    m.parameters['out_bias'][...] = -.8\n",
      "\n",
      "    m.exprs['true_loss'] = m.exprs['loss']\n",
      "\n",
      "    def test_nll():\n",
      "        nll = 0\n",
      "        n_time_steps = 0\n",
      "        for x, z in zip(tx, tz):\n",
      "            nll += m.score(x[:, np.newaxis], z[:, np.newaxis]) * x.shape[0]\n",
      "            n_time_steps += x.shape[0]\n",
      "        return nll / n_time_steps\n",
      "\n",
      "    infos = []"
     ],
     "language": "python",
     "metadata": {},
     "outputs": [],
     "prompt_number": 5
    },
    {
     "cell_type": "markdown",
     "metadata": {},
     "source": [
      "FD-RNN\n",
      "---"
     ]
    },
    {
     "cell_type": "code",
     "collapsed": false,
     "input": [
      "if method == 'fd':\n",
      "    n_layers = 1\n",
      "\n",
      "    optimizer = 'rmsprop', {'step_rate': 1e-3, 'momentum': .99, 'decay': .8}\n",
      "\n",
      "    p_dropout_inpt = 0.1\n",
      "    p_dropout_hiddens = 0.2\n",
      "    p_dropout_hidden_to_out = 0.5\n",
      "    batch_size = 9\n",
      "\n",
      "    n_hiddens = [400] * n_layers\n",
      "\n",
      "    from breze.arch.component.varprop.transfer import tanh\n",
      "\n",
      "    m = SupervisedFastDropoutRnn(\n",
      "        88, n_hiddens, 88,  out_transfer='sigmoid', loss='bern_ces', \n",
      "        hidden_transfers=['tanh'] * n_layers,\n",
      "        batch_size=batch_size,\n",
      "        p_dropout_inpt=p_dropout_inpt,\n",
      "        p_dropout_hiddens=p_dropout_hiddens,\n",
      "        p_dropout_hidden_to_out=p_dropout_hidden_to_out,\n",
      "        optimizer=optimizer)\n",
      "\n",
      "    m.exprs['true_loss'] = m.exprs['loss']\n",
      "\n",
      "    f_loss = m.function(['inpt', 'target'], 'true_loss')\n",
      "\n",
      "    def test_nll():\n",
      "        nll = 0\n",
      "        n_time_steps = 0\n",
      "        for x, z in zip(tx, tz):\n",
      "            nll += f_loss(x[:, np.newaxis], z[:, np.newaxis]) * x.shape[0]\n",
      "            n_time_steps += x.shape[0]\n",
      "        return nll / n_time_steps\n",
      "\n",
      "    infos = []"
     ],
     "language": "python",
     "metadata": {},
     "outputs": [
      {
       "output_type": "stream",
       "stream": "stderr",
       "text": [
        "/Users/bayerj/devel/3rdparty/Theano/theano/scan_module/scan_perform_ext.py:133: RuntimeWarning: numpy.ndarray size changed, may indicate binary incompatibility\n",
        "  from scan_perform.scan_perform import *\n"
       ]
      }
     ],
     "prompt_number": 6
    },
    {
     "cell_type": "code",
     "collapsed": false,
     "input": [
      "m.initialize(par_std=0.0001, par_std_in=0.01, spectral_radius=1.2, sparsify_rec=15, sparsify_affine=15)\n",
      "m.parameters[m.rnn.layers[-1].affine.bias][...] = -8"
     ],
     "language": "python",
     "metadata": {},
     "outputs": [
      {
       "output_type": "stream",
       "stream": "stderr",
       "text": [
        "/Users/bayerj/devel/climin/climin/initialize.py:96: ComplexWarning: Casting complex values to real discards the imaginary part\n",
        "  arr[...] = np.dot(vecs, np.dot(np.diag(vals), np.linalg.inv(vecs)))\n"
       ]
      }
     ],
     "prompt_number": 7
    },
    {
     "cell_type": "code",
     "collapsed": false,
     "input": [
      "config.theano.floatX"
     ],
     "language": "python",
     "metadata": {},
     "outputs": []
    },
    {
     "cell_type": "markdown",
     "metadata": {},
     "source": [
      "Training\n",
      "==="
     ]
    },
    {
     "cell_type": "code",
     "collapsed": false,
     "input": [
      "m.optimizer = 'rmsprop', {'step_rate': 1e-3, 'momentum': .99, 'decay': .8}"
     ],
     "language": "python",
     "metadata": {},
     "outputs": [],
     "prompt_number": 8
    },
    {
     "cell_type": "code",
     "collapsed": false,
     "input": [
      "max_passes = 10000\n",
      "max_minutes = 600\n",
      "max_iter = max_passes * X.shape[1] / m.batch_size\n",
      "batches_per_pass = int(math.ceil(float(X.shape[1]) / m.batch_size))\n",
      "pause = climin.stops.ModuloNIterations(batches_per_pass * 1)\n",
      "\n",
      "\n",
      "stop = climin.stops.Any([\n",
      "    climin.stops.TimeElapsed(max_minutes * 60),\n",
      "    #climin.stops.patience('val_loss', 1000, grow_factor=1.1, threshold=0.0001),\n",
      "    climin.stops.NotBetterThanAfter(30, 100),\n",
      "])\n",
      "    \n",
      "start = time.time()\n",
      "# Set up a nice printout.\n",
      "header = '#', 'seconds', 'loss', 'val loss', 'test loss'\n",
      "print '\\t'.join(header)\n",
      "\n",
      "for i, info in enumerate(m.powerfit((X, Z), (VX, VZ), stop, pause, True)):\n",
      "    info['loss'] = float(info['loss'])\n",
      "    info['val_loss'] = float(info['val_loss'])\n",
      "    info['test_loss'] = float(ma.scalar(test_nll()))\n",
      "    \n",
      "#    if info['test_loss'] < 8.58:\n",
      "#        break\n",
      "\n",
      "    info.update({\n",
      "        'time': time.time() - start,\n",
      "        #'spectral_radius': get_spectral_radius(m.parameters['recurrent_0']),\n",
      "    })\n",
      "    template = '\\t'.join(\n",
      "        ['%(n_iter)i', '%(time)g', '%(loss)g', '%(val_loss)g', '%(test_loss)g'])\n",
      "    row = template % info\n",
      "    print row\n",
      "\n",
      "    filtered_info = dict(\n",
      "        (k, v) for k, v in info.items()\n",
      "        #if (not isinstance(v, (np.ndarray, gp.garray)) or v.size <= 1) and k not in ('args', 'kwargs'))\n",
      "        if (not isinstance(v, (np.ndarray, )) or v.size <= 1) and k not in ('args', 'kwargs'))\n",
      "\n",
      "    for key in filtered_info:\n",
      "        if isinstance(filtered_info[key], np.float32):\n",
      "            filtered_info[key] = float(filtered_info[key])\n",
      "    infos.append(filtered_info)\n"
     ],
     "language": "python",
     "metadata": {},
     "outputs": [
      {
       "output_type": "stream",
       "stream": "stdout",
       "text": [
        "#\tseconds\tloss\tval loss\ttest loss\n",
        "27\t19.9815\t3.98364\t4.51129\t8.12395"
       ]
      },
      {
       "output_type": "stream",
       "stream": "stdout",
       "text": [
        "\n",
        "54\t40.0571\t3.97772\t4.50716\t8.11519"
       ]
      },
      {
       "output_type": "stream",
       "stream": "stdout",
       "text": [
        "\n",
        "81\t60.1304\t3.96179\t4.50353\t8.09403"
       ]
      },
      {
       "output_type": "stream",
       "stream": "stdout",
       "text": [
        "\n",
        "108\t80.2203\t3.96803\t4.51475\t8.11106"
       ]
      },
      {
       "output_type": "stream",
       "stream": "stdout",
       "text": [
        "\n",
        "135\t100.425\t3.97383\t4.51508\t8.1364"
       ]
      },
      {
       "output_type": "stream",
       "stream": "stdout",
       "text": [
        "\n",
        "162\t121.043\t3.96897\t4.51817\t8.12286"
       ]
      },
      {
       "output_type": "stream",
       "stream": "stdout",
       "text": [
        "\n",
        "189\t141.924\t3.96708\t4.5073\t8.12555"
       ]
      },
      {
       "output_type": "stream",
       "stream": "stdout",
       "text": [
        "\n",
        "216\t162.318\t3.97205\t4.51093\t8.12283"
       ]
      },
      {
       "output_type": "stream",
       "stream": "stdout",
       "text": [
        "\n",
        "243\t182.855\t3.9616\t4.508\t8.11613"
       ]
      },
      {
       "output_type": "stream",
       "stream": "stdout",
       "text": [
        "\n",
        "270\t203.3\t3.95983\t4.51207\t8.11743"
       ]
      },
      {
       "output_type": "stream",
       "stream": "stdout",
       "text": [
        "\n",
        "297\t223.371\t3.9654\t4.51935\t8.12165"
       ]
      },
      {
       "output_type": "stream",
       "stream": "stdout",
       "text": [
        "\n",
        "324\t243.435\t3.96954\t4.51199\t8.15067"
       ]
      },
      {
       "output_type": "stream",
       "stream": "stdout",
       "text": [
        "\n",
        "351\t263.391\t3.95809\t4.52633\t8.11906"
       ]
      },
      {
       "output_type": "stream",
       "stream": "stdout",
       "text": [
        "\n",
        "378\t283.347\t3.95149\t4.51002\t8.144"
       ]
      },
      {
       "output_type": "stream",
       "stream": "stdout",
       "text": [
        "\n",
        "405\t303.308\t3.95719\t4.52684\t8.11342"
       ]
      },
      {
       "output_type": "stream",
       "stream": "stdout",
       "text": [
        "\n",
        "432\t323.801\t3.93853\t4.50291\t8.10981"
       ]
      },
      {
       "output_type": "stream",
       "stream": "stdout",
       "text": [
        "\n",
        "459\t343.966\t3.94381\t4.51639\t8.12837"
       ]
      },
      {
       "output_type": "stream",
       "stream": "stdout",
       "text": [
        "\n",
        "486\t363.87\t3.92868\t4.49831\t8.10202"
       ]
      },
      {
       "output_type": "stream",
       "stream": "stdout",
       "text": [
        "\n",
        "513\t383.773\t3.93437\t4.5178\t8.12412"
       ]
      },
      {
       "output_type": "stream",
       "stream": "stdout",
       "text": [
        "\n",
        "540\t403.636\t3.9214\t4.51068\t8.08982"
       ]
      },
      {
       "output_type": "stream",
       "stream": "stdout",
       "text": [
        "\n",
        "567\t423.528\t3.92023\t4.49923\t8.11202"
       ]
      },
      {
       "output_type": "stream",
       "stream": "stdout",
       "text": [
        "\n",
        "594\t443.411\t3.91696\t4.5092\t8.109"
       ]
      },
      {
       "output_type": "stream",
       "stream": "stdout",
       "text": [
        "\n",
        "621\t463.353\t3.91722\t4.50119\t8.10961"
       ]
      },
      {
       "output_type": "stream",
       "stream": "stdout",
       "text": [
        "\n",
        "648\t483.237\t3.90727\t4.50653\t8.11232"
       ]
      },
      {
       "output_type": "stream",
       "stream": "stdout",
       "text": [
        "\n",
        "675\t503.057\t3.91559\t4.51706\t8.09887"
       ]
      },
      {
       "output_type": "stream",
       "stream": "stdout",
       "text": [
        "\n",
        "702\t522.934\t3.91197\t4.50518\t8.1172"
       ]
      },
      {
       "output_type": "stream",
       "stream": "stdout",
       "text": [
        "\n",
        "729\t542.782\t3.90499\t4.50627\t8.10884"
       ]
      },
      {
       "output_type": "stream",
       "stream": "stdout",
       "text": [
        "\n",
        "756\t562.655\t3.90678\t4.52003\t8.12251"
       ]
      },
      {
       "output_type": "stream",
       "stream": "stdout",
       "text": [
        "\n",
        "783\t582.537\t3.89709\t4.51473\t8.10131"
       ]
      },
      {
       "output_type": "stream",
       "stream": "stdout",
       "text": [
        "\n",
        "810\t602.436\t3.90292\t4.49519\t8.10696"
       ]
      },
      {
       "output_type": "stream",
       "stream": "stdout",
       "text": [
        "\n",
        "837\t622.307\t3.89926\t4.50044\t8.09659"
       ]
      },
      {
       "output_type": "stream",
       "stream": "stdout",
       "text": [
        "\n",
        "864\t642.217\t3.88591\t4.49928\t8.09532"
       ]
      },
      {
       "output_type": "stream",
       "stream": "stdout",
       "text": [
        "\n",
        "891\t662.163\t3.87893\t4.4997\t8.08466"
       ]
      },
      {
       "output_type": "stream",
       "stream": "stdout",
       "text": [
        "\n",
        "918\t682.108\t3.88398\t4.50083\t8.12253"
       ]
      },
      {
       "output_type": "stream",
       "stream": "stdout",
       "text": [
        "\n",
        "945\t701.927\t3.88295\t4.50626\t8.10487"
       ]
      },
      {
       "output_type": "stream",
       "stream": "stdout",
       "text": [
        "\n",
        "972\t721.816\t3.88292\t4.50492\t8.09757"
       ]
      },
      {
       "output_type": "stream",
       "stream": "stdout",
       "text": [
        "\n",
        "999\t741.69\t3.87585\t4.49285\t8.08984"
       ]
      },
      {
       "output_type": "stream",
       "stream": "stdout",
       "text": [
        "\n",
        "1026\t761.578\t3.87843\t4.5059\t8.10044"
       ]
      },
      {
       "output_type": "stream",
       "stream": "stdout",
       "text": [
        "\n",
        "1053\t781.453\t3.86834\t4.49841\t8.10484"
       ]
      },
      {
       "output_type": "stream",
       "stream": "stdout",
       "text": [
        "\n",
        "1080\t801.34\t3.86389\t4.49685\t8.08252"
       ]
      },
      {
       "output_type": "stream",
       "stream": "stdout",
       "text": [
        "\n",
        "1107\t821.214\t3.8634\t4.50586\t8.08744"
       ]
      },
      {
       "output_type": "stream",
       "stream": "stdout",
       "text": [
        "\n",
        "1134\t841.103\t3.86143\t4.50083\t8.08003"
       ]
      },
      {
       "output_type": "stream",
       "stream": "stdout",
       "text": [
        "\n",
        "1161\t861.014\t3.8626\t4.50069\t8.10031"
       ]
      },
      {
       "output_type": "stream",
       "stream": "stdout",
       "text": [
        "\n",
        "1188\t880.884\t3.86698\t4.51434\t8.10481"
       ]
      },
      {
       "output_type": "stream",
       "stream": "stdout",
       "text": [
        "\n",
        "1215\t900.779\t3.86553\t4.49727\t8.09445"
       ]
      },
      {
       "output_type": "stream",
       "stream": "stdout",
       "text": [
        "\n",
        "1242\t920.581\t3.86274\t4.4998\t8.08531"
       ]
      },
      {
       "output_type": "stream",
       "stream": "stdout",
       "text": [
        "\n",
        "1269\t940.479\t3.86346\t4.49535\t8.09722"
       ]
      },
      {
       "output_type": "stream",
       "stream": "stdout",
       "text": [
        "\n",
        "1296\t960.45\t3.85354\t4.49547\t8.07035"
       ]
      },
      {
       "output_type": "stream",
       "stream": "stdout",
       "text": [
        "\n",
        "1323\t1323.36\t3.85372\t4.50467\t8.10478"
       ]
      },
      {
       "output_type": "stream",
       "stream": "stdout",
       "text": [
        "\n",
        "1350\t1343.56\t3.84945\t4.4964\t8.08929"
       ]
      },
      {
       "output_type": "stream",
       "stream": "stdout",
       "text": [
        "\n",
        "1377\t1363.59\t3.85275\t4.49809\t8.10863"
       ]
      },
      {
       "output_type": "stream",
       "stream": "stdout",
       "text": [
        "\n",
        "1404\t1383.48\t3.88038\t4.52831\t8.11944"
       ]
      },
      {
       "output_type": "stream",
       "stream": "stdout",
       "text": [
        "\n",
        "1431\t1403.37\t3.84804\t4.49317\t8.08027"
       ]
      },
      {
       "output_type": "stream",
       "stream": "stdout",
       "text": [
        "\n",
        "1458\t1423.34\t3.84845\t4.50429\t8.0908"
       ]
      },
      {
       "output_type": "stream",
       "stream": "stdout",
       "text": [
        "\n",
        "1485\t1444.3\t3.84817\t4.50058\t8.09373"
       ]
      },
      {
       "output_type": "stream",
       "stream": "stdout",
       "text": [
        "\n",
        "1512\t1464.71\t3.84771\t4.49858\t8.11311"
       ]
      },
      {
       "output_type": "stream",
       "stream": "stdout",
       "text": [
        "\n",
        "1539\t1484.61\t3.85431\t4.50722\t8.10074"
       ]
      },
      {
       "output_type": "stream",
       "stream": "stdout",
       "text": [
        "\n",
        "1566\t1504.5\t3.84843\t4.50284\t8.10149"
       ]
      },
      {
       "output_type": "stream",
       "stream": "stdout",
       "text": [
        "\n",
        "1593\t1524.4\t3.83829\t4.49292\t8.10317"
       ]
      },
      {
       "output_type": "stream",
       "stream": "stdout",
       "text": [
        "\n",
        "1620\t1544.31\t3.85419\t4.50587\t8.10933"
       ]
      },
      {
       "output_type": "stream",
       "stream": "stdout",
       "text": [
        "\n",
        "1647\t1564.18\t3.83849\t4.49154\t8.09375"
       ]
      },
      {
       "output_type": "stream",
       "stream": "stdout",
       "text": [
        "\n",
        "1674\t1584\t3.83326\t4.48971\t8.06334"
       ]
      },
      {
       "output_type": "stream",
       "stream": "stdout",
       "text": [
        "\n",
        "1701\t1603.93\t3.83373\t4.4917\t8.08007"
       ]
      },
      {
       "output_type": "stream",
       "stream": "stdout",
       "text": [
        "\n",
        "1728\t1623.81\t3.8366\t4.50437\t8.09361"
       ]
      },
      {
       "output_type": "stream",
       "stream": "stdout",
       "text": [
        "\n",
        "1755\t1643.7\t3.83141\t4.5008\t8.08109"
       ]
      },
      {
       "output_type": "stream",
       "stream": "stdout",
       "text": [
        "\n",
        "1782\t1663.57\t3.82501\t4.48456\t8.08512"
       ]
      },
      {
       "output_type": "stream",
       "stream": "stdout",
       "text": [
        "\n",
        "1809\t1683.44\t3.82835\t4.49188\t8.07988"
       ]
      },
      {
       "output_type": "stream",
       "stream": "stdout",
       "text": [
        "\n",
        "1836\t1703.34\t3.83031\t4.48846\t8.07842"
       ]
      },
      {
       "output_type": "stream",
       "stream": "stdout",
       "text": [
        "\n",
        "1863\t1723.24\t3.82319\t4.49223\t8.07973"
       ]
      },
      {
       "output_type": "stream",
       "stream": "stdout",
       "text": [
        "\n",
        "1890\t1743.17\t3.82647\t4.50536\t8.07837"
       ]
      },
      {
       "output_type": "stream",
       "stream": "stdout",
       "text": [
        "\n",
        "1917\t1763.07\t3.81568\t4.4755\t8.06721"
       ]
      },
      {
       "output_type": "stream",
       "stream": "stdout",
       "text": [
        "\n",
        "1944\t1782.99\t3.8198\t4.48561\t8.07253"
       ]
      },
      {
       "output_type": "stream",
       "stream": "stdout",
       "text": [
        "\n",
        "1971\t1802.93\t3.81691\t4.49529\t8.07741"
       ]
      },
      {
       "output_type": "stream",
       "stream": "stdout",
       "text": [
        "\n",
        "1998\t1822.87\t3.82158\t4.49918\t8.06728"
       ]
      },
      {
       "output_type": "stream",
       "stream": "stdout",
       "text": [
        "\n",
        "2025\t1842.83\t3.82152\t4.49932\t8.10636"
       ]
      },
      {
       "output_type": "stream",
       "stream": "stdout",
       "text": [
        "\n",
        "2052\t1862.76\t3.81136\t4.48625\t8.0749"
       ]
      },
      {
       "output_type": "stream",
       "stream": "stdout",
       "text": [
        "\n",
        "2079\t1882.7\t3.81137\t4.47975\t8.06187"
       ]
      },
      {
       "output_type": "stream",
       "stream": "stdout",
       "text": [
        "\n",
        "2106\t1902.65\t3.81014\t4.49021\t8.07534"
       ]
      },
      {
       "output_type": "stream",
       "stream": "stdout",
       "text": [
        "\n",
        "2133\t1922.66\t3.8049\t4.48695\t8.07476"
       ]
      },
      {
       "output_type": "stream",
       "stream": "stdout",
       "text": [
        "\n",
        "2160\t1942.6\t3.80564\t4.48665\t8.06517"
       ]
      },
      {
       "output_type": "stream",
       "stream": "stdout",
       "text": [
        "\n",
        "2187\t1962.55\t3.80561\t4.49094\t8.07419"
       ]
      },
      {
       "output_type": "stream",
       "stream": "stdout",
       "text": [
        "\n",
        "2214\t1982.47\t3.80735\t4.48029\t8.07353"
       ]
      },
      {
       "output_type": "stream",
       "stream": "stdout",
       "text": [
        "\n",
        "2241\t2002.4\t3.80259\t4.48224\t8.06772"
       ]
      },
      {
       "output_type": "stream",
       "stream": "stdout",
       "text": [
        "\n",
        "2268\t2022.33\t3.80495\t4.48311\t8.07405"
       ]
      },
      {
       "output_type": "stream",
       "stream": "stdout",
       "text": [
        "\n",
        "2295\t2042.26\t3.81143\t4.49546\t8.0705"
       ]
      },
      {
       "output_type": "stream",
       "stream": "stdout",
       "text": [
        "\n",
        "2322\t2062.26\t3.80295\t4.48068\t8.06724"
       ]
      },
      {
       "output_type": "stream",
       "stream": "stdout",
       "text": [
        "\n",
        "2349\t2082.1\t3.8013\t4.48431\t8.07297"
       ]
      },
      {
       "output_type": "stream",
       "stream": "stdout",
       "text": [
        "\n",
        "2376\t2102.02\t3.80948\t4.48666\t8.08015"
       ]
      },
      {
       "output_type": "stream",
       "stream": "stdout",
       "text": [
        "\n",
        "2403\t2121.95\t3.80696\t4.49985\t8.08192"
       ]
      },
      {
       "output_type": "stream",
       "stream": "stdout",
       "text": [
        "\n",
        "2430\t2875.9\t3.80225\t4.47992\t8.06879"
       ]
      },
      {
       "output_type": "stream",
       "stream": "stdout",
       "text": [
        "\n",
        "2457\t2896.38\t3.80701\t4.49233\t8.06948"
       ]
      },
      {
       "output_type": "stream",
       "stream": "stdout",
       "text": [
        "\n",
        "2484\t2916.93\t3.80043\t4.48504\t8.08129"
       ]
      },
      {
       "output_type": "stream",
       "stream": "stdout",
       "text": [
        "\n",
        "2511\t2939.44\t3.79464\t4.47855\t8.06206"
       ]
      },
      {
       "output_type": "stream",
       "stream": "stdout",
       "text": [
        "\n",
        "2538\t2960.09\t3.79802\t4.48487\t8.08076"
       ]
      },
      {
       "output_type": "stream",
       "stream": "stdout",
       "text": [
        "\n",
        "2565\t2980.18\t3.80363\t4.49303\t8.08724"
       ]
      },
      {
       "output_type": "stream",
       "stream": "stdout",
       "text": [
        "\n",
        "2592\t3000.13\t3.80092\t4.48983\t8.07154"
       ]
      },
      {
       "output_type": "stream",
       "stream": "stdout",
       "text": [
        "\n",
        "2619\t3020.07\t3.7947\t4.48014\t8.06451"
       ]
      },
      {
       "output_type": "stream",
       "stream": "stdout",
       "text": [
        "\n",
        "2646\t3040.83\t3.79056\t4.4726\t8.06164"
       ]
      },
      {
       "output_type": "stream",
       "stream": "stdout",
       "text": [
        "\n",
        "2673\t3061.1\t3.79355\t4.48691\t8.06241"
       ]
      },
      {
       "output_type": "stream",
       "stream": "stdout",
       "text": [
        "\n",
        "2700\t3081.81\t3.79176\t4.47797\t8.08148"
       ]
      },
      {
       "output_type": "stream",
       "stream": "stdout",
       "text": [
        "\n",
        "2727\t3101.93\t3.79324\t4.48644\t8.0625"
       ]
      },
      {
       "output_type": "stream",
       "stream": "stdout",
       "text": [
        "\n",
        "2754\t3122.17\t3.78998\t4.48675\t8.07354"
       ]
      },
      {
       "output_type": "stream",
       "stream": "stdout",
       "text": [
        "\n",
        "2781\t3142.91\t3.79017\t4.48422\t8.06338"
       ]
      },
      {
       "output_type": "stream",
       "stream": "stdout",
       "text": [
        "\n",
        "2808\t3162.96\t3.78633\t4.47734\t8.04885"
       ]
      },
      {
       "output_type": "stream",
       "stream": "stdout",
       "text": [
        "\n",
        "2835\t3182.92\t3.79524\t4.48953\t8.08042"
       ]
      },
      {
       "output_type": "stream",
       "stream": "stdout",
       "text": [
        "\n",
        "2862\t3202.99\t3.79115\t4.48628\t8.07744"
       ]
      },
      {
       "output_type": "stream",
       "stream": "stdout",
       "text": [
        "\n",
        "2889\t3223.22\t3.79199\t4.49157\t8.0789"
       ]
      },
      {
       "output_type": "stream",
       "stream": "stdout",
       "text": [
        "\n",
        "2916\t3243.65\t3.78354\t4.48431\t8.06799"
       ]
      },
      {
       "output_type": "stream",
       "stream": "stdout",
       "text": [
        "\n",
        "2943\t3263.61\t3.78501\t4.4841\t8.05503"
       ]
      },
      {
       "output_type": "stream",
       "stream": "stdout",
       "text": [
        "\n",
        "2970\t3284.16\t3.78055\t4.48042\t8.06369"
       ]
      },
      {
       "output_type": "stream",
       "stream": "stdout",
       "text": [
        "\n",
        "2997\t3304.12\t3.7784\t4.47842\t8.05472"
       ]
      },
      {
       "output_type": "stream",
       "stream": "stdout",
       "text": [
        "\n",
        "3024\t3324.32\t3.78418\t4.48887\t8.07557"
       ]
      },
      {
       "output_type": "stream",
       "stream": "stdout",
       "text": [
        "\n",
        "3051\t3344.54\t3.78083\t4.48129\t8.06583"
       ]
      },
      {
       "output_type": "stream",
       "stream": "stdout",
       "text": [
        "\n",
        "3078\t3365.16\t3.77819\t4.47354\t8.05289"
       ]
      },
      {
       "output_type": "stream",
       "stream": "stdout",
       "text": [
        "\n",
        "3105\t3385.97\t3.779\t4.48489\t8.06442"
       ]
      },
      {
       "output_type": "stream",
       "stream": "stdout",
       "text": [
        "\n",
        "3132\t3406\t3.78289\t4.48277\t8.05935"
       ]
      },
      {
       "output_type": "stream",
       "stream": "stdout",
       "text": [
        "\n",
        "3159\t3426.09\t3.77779\t4.47559\t8.055"
       ]
      },
      {
       "output_type": "stream",
       "stream": "stdout",
       "text": [
        "\n",
        "3186\t3446.82\t3.77333\t4.4802\t8.04959"
       ]
      },
      {
       "output_type": "stream",
       "stream": "stdout",
       "text": [
        "\n",
        "3213\t3467.19\t3.7775\t4.4802\t8.06397"
       ]
      },
      {
       "output_type": "stream",
       "stream": "stdout",
       "text": [
        "\n",
        "3240\t3487.01\t3.77476\t4.47614\t8.05872"
       ]
      },
      {
       "output_type": "stream",
       "stream": "stdout",
       "text": [
        "\n",
        "3267\t3506.94\t3.77701\t4.48265\t8.06422"
       ]
      },
      {
       "output_type": "stream",
       "stream": "stdout",
       "text": [
        "\n",
        "3294\t3526.85\t3.7752\t4.48126\t8.06227"
       ]
      },
      {
       "output_type": "stream",
       "stream": "stdout",
       "text": [
        "\n",
        "3321\t3546.89\t3.7795\t4.48956\t8.0772"
       ]
      },
      {
       "output_type": "stream",
       "stream": "stdout",
       "text": [
        "\n",
        "3348\t3566.95\t3.77971\t4.49466\t8.06242"
       ]
      },
      {
       "output_type": "stream",
       "stream": "stdout",
       "text": [
        "\n",
        "3375\t3587.23\t3.7737\t4.48471\t8.0637"
       ]
      },
      {
       "output_type": "stream",
       "stream": "stdout",
       "text": [
        "\n",
        "3402\t3607.19\t3.77674\t4.47888\t8.07043"
       ]
      },
      {
       "output_type": "stream",
       "stream": "stdout",
       "text": [
        "\n",
        "3429\t3627.12\t3.77785\t4.49015\t8.07805"
       ]
      },
      {
       "output_type": "stream",
       "stream": "stdout",
       "text": [
        "\n",
        "3456\t3647.21\t3.77063\t4.4805\t8.0685"
       ]
      },
      {
       "output_type": "stream",
       "stream": "stdout",
       "text": [
        "\n",
        "3483\t3667.66\t3.77688\t4.49609\t8.08084"
       ]
      },
      {
       "output_type": "stream",
       "stream": "stdout",
       "text": [
        "\n",
        "3510\t3687.9\t3.77195\t4.48099\t8.05936"
       ]
      },
      {
       "output_type": "stream",
       "stream": "stdout",
       "text": [
        "\n",
        "3537\t3708.34\t3.77232\t4.48308\t8.05399"
       ]
      },
      {
       "output_type": "stream",
       "stream": "stdout",
       "text": [
        "\n",
        "3564\t3728.42\t3.76914\t4.46825\t8.06234"
       ]
      },
      {
       "output_type": "stream",
       "stream": "stdout",
       "text": [
        "\n",
        "3591\t3748.33\t3.77081\t4.48868\t8.05617"
       ]
      },
      {
       "output_type": "stream",
       "stream": "stdout",
       "text": [
        "\n",
        "3618\t3768.21\t3.76897\t4.4822\t8.05875"
       ]
      },
      {
       "output_type": "stream",
       "stream": "stdout",
       "text": [
        "\n",
        "3645\t3788.4\t3.76806\t4.47854\t8.06396"
       ]
      },
      {
       "output_type": "stream",
       "stream": "stdout",
       "text": [
        "\n",
        "3672\t3809.42\t3.76752\t4.47746\t8.06356"
       ]
      },
      {
       "output_type": "stream",
       "stream": "stdout",
       "text": [
        "\n",
        "3699\t3829.45\t3.76911\t4.48866\t8.05938"
       ]
      },
      {
       "output_type": "stream",
       "stream": "stdout",
       "text": [
        "\n",
        "3726\t3849.41\t3.76171\t4.47759\t8.04932"
       ]
      },
      {
       "output_type": "stream",
       "stream": "stdout",
       "text": [
        "\n",
        "3753\t3869.4\t3.76095\t4.47757\t8.05351"
       ]
      },
      {
       "output_type": "stream",
       "stream": "stdout",
       "text": [
        "\n",
        "3780\t3889.3\t3.77244\t4.48276\t8.06513"
       ]
      },
      {
       "output_type": "stream",
       "stream": "stdout",
       "text": [
        "\n",
        "3807\t3909.17\t3.76464\t4.47739\t8.07276"
       ]
      },
      {
       "output_type": "stream",
       "stream": "stdout",
       "text": [
        "\n",
        "3834\t3929.33\t3.78628\t4.5049\t8.117"
       ]
      },
      {
       "output_type": "stream",
       "stream": "stdout",
       "text": [
        "\n",
        "3861\t3949.39\t3.77187\t4.49198\t8.06246"
       ]
      },
      {
       "output_type": "stream",
       "stream": "stdout",
       "text": [
        "\n",
        "3888\t3969.39\t3.76952\t4.48327\t8.06786"
       ]
      },
      {
       "output_type": "stream",
       "stream": "stdout",
       "text": [
        "\n",
        "3915\t3989.57\t3.76341\t4.48545\t8.06299"
       ]
      },
      {
       "output_type": "stream",
       "stream": "stdout",
       "text": [
        "\n",
        "3942\t4009.81\t3.75885\t4.47097\t8.05807"
       ]
      },
      {
       "output_type": "stream",
       "stream": "stdout",
       "text": [
        "\n",
        "3969\t4030.12\t3.76139\t4.47505\t8.05701"
       ]
      },
      {
       "output_type": "stream",
       "stream": "stdout",
       "text": [
        "\n",
        "3996\t4050.85\t3.76554\t4.48835\t8.07273"
       ]
      },
      {
       "output_type": "stream",
       "stream": "stdout",
       "text": [
        "\n",
        "4023\t4071.35\t3.75695\t4.47928\t8.05106"
       ]
      },
      {
       "output_type": "stream",
       "stream": "stdout",
       "text": [
        "\n",
        "4050\t4092.01\t3.75843\t4.47291\t8.0512"
       ]
      },
      {
       "output_type": "stream",
       "stream": "stdout",
       "text": [
        "\n",
        "4077\t4112.62\t3.76279\t4.48348\t8.05989"
       ]
      },
      {
       "output_type": "stream",
       "stream": "stdout",
       "text": [
        "\n",
        "4104\t4133.28\t3.76405\t4.48812\t8.07962"
       ]
      },
      {
       "output_type": "stream",
       "stream": "stdout",
       "text": [
        "\n",
        "4131\t4153.77\t3.76062\t4.4775\t8.06606"
       ]
      },
      {
       "output_type": "stream",
       "stream": "stdout",
       "text": [
        "\n",
        "4158\t4175\t3.76149\t4.49395\t8.06174"
       ]
      },
      {
       "output_type": "stream",
       "stream": "stdout",
       "text": [
        "\n",
        "4185\t4196.13\t3.7582\t4.47685\t8.06176"
       ]
      },
      {
       "output_type": "stream",
       "stream": "stdout",
       "text": [
        "\n",
        "4212\t4216.43\t3.7613\t4.47597\t8.06176"
       ]
      },
      {
       "output_type": "stream",
       "stream": "stdout",
       "text": [
        "\n",
        "4239\t4236.94\t3.7591\t4.4742\t8.05725"
       ]
      },
      {
       "output_type": "stream",
       "stream": "stdout",
       "text": [
        "\n",
        "4266\t4256.98\t3.75388\t4.48182\t8.07017"
       ]
      },
      {
       "output_type": "stream",
       "stream": "stdout",
       "text": [
        "\n",
        "4293\t4277\t3.75396\t4.4819\t8.04687"
       ]
      },
      {
       "output_type": "stream",
       "stream": "stdout",
       "text": [
        "\n",
        "4320\t4296.91\t3.75407\t4.48655\t8.06584"
       ]
      },
      {
       "output_type": "stream",
       "stream": "stdout",
       "text": [
        "\n",
        "4347\t4317.26\t3.75206\t4.47648\t8.04541"
       ]
      },
      {
       "output_type": "stream",
       "stream": "stdout",
       "text": [
        "\n",
        "4374\t4337.46\t3.75122\t4.48701\t8.06438"
       ]
      },
      {
       "output_type": "stream",
       "stream": "stdout",
       "text": [
        "\n",
        "4401\t4360.01\t3.74794\t4.47198\t8.04774"
       ]
      },
      {
       "output_type": "stream",
       "stream": "stdout",
       "text": [
        "\n",
        "4428\t4380.61\t3.75443\t4.48343\t8.06517"
       ]
      },
      {
       "output_type": "stream",
       "stream": "stdout",
       "text": [
        "\n",
        "4455\t4401.38\t3.75265\t4.48014\t8.06109"
       ]
      },
      {
       "output_type": "stream",
       "stream": "stdout",
       "text": [
        "\n",
        "4482\t4422.16\t3.75031\t4.47888\t8.05786"
       ]
      },
      {
       "output_type": "stream",
       "stream": "stdout",
       "text": [
        "\n",
        "4509\t4443.2\t3.74737\t4.4745\t8.05108"
       ]
      },
      {
       "output_type": "stream",
       "stream": "stdout",
       "text": [
        "\n",
        "4536\t4463.38\t3.7481\t4.47843\t8.05609"
       ]
      },
      {
       "output_type": "stream",
       "stream": "stdout",
       "text": [
        "\n",
        "4563\t4483.47\t3.74545\t4.4746\t8.03733"
       ]
      },
      {
       "output_type": "stream",
       "stream": "stdout",
       "text": [
        "\n",
        "4590\t4503.41\t3.74658\t4.48125\t8.05537"
       ]
      },
      {
       "output_type": "stream",
       "stream": "stdout",
       "text": [
        "\n",
        "4617\t4523.47\t3.74914\t4.47937\t8.06209"
       ]
      },
      {
       "output_type": "stream",
       "stream": "stdout",
       "text": [
        "\n",
        "4644\t4543.73\t3.74958\t4.47638\t8.06911"
       ]
      },
      {
       "output_type": "stream",
       "stream": "stdout",
       "text": [
        "\n",
        "4671\t4564.22\t3.74621\t4.47781\t8.04065"
       ]
      },
      {
       "output_type": "stream",
       "stream": "stdout",
       "text": [
        "\n",
        "4698\t4584.54\t3.74712\t4.48023\t8.07268"
       ]
      },
      {
       "output_type": "stream",
       "stream": "stdout",
       "text": [
        "\n",
        "4725\t4605.09\t3.755\t4.49311\t8.05869"
       ]
      },
      {
       "output_type": "stream",
       "stream": "stdout",
       "text": [
        "\n",
        "4752\t4625.7\t3.75482\t4.49312\t8.07078"
       ]
      },
      {
       "output_type": "stream",
       "stream": "stdout",
       "text": [
        "\n",
        "4779\t4645.93\t3.75745\t4.47766\t8.06389"
       ]
      },
      {
       "output_type": "stream",
       "stream": "stdout",
       "text": [
        "\n",
        "4806\t4666.07\t3.76008\t4.49778\t8.08186"
       ]
      },
      {
       "output_type": "stream",
       "stream": "stdout",
       "text": [
        "\n",
        "4833\t4686.28\t3.74902\t4.48772\t8.06331"
       ]
      },
      {
       "output_type": "stream",
       "stream": "stdout",
       "text": [
        "\n",
        "4860\t4706.21\t3.749\t4.48099\t8.05795"
       ]
      },
      {
       "output_type": "stream",
       "stream": "stdout",
       "text": [
        "\n",
        "4887\t4726.26\t3.74647\t4.48507\t8.05837"
       ]
      },
      {
       "output_type": "stream",
       "stream": "stdout",
       "text": [
        "\n",
        "4914\t4746.26\t3.75055\t4.48479\t8.05551"
       ]
      },
      {
       "output_type": "stream",
       "stream": "stdout",
       "text": [
        "\n",
        "4941\t4766.74\t3.74497\t4.47967\t8.04928"
       ]
      },
      {
       "output_type": "stream",
       "stream": "stdout",
       "text": [
        "\n",
        "4968\t4787.81\t3.74362\t4.47923\t8.05205"
       ]
      },
      {
       "output_type": "stream",
       "stream": "stdout",
       "text": [
        "\n",
        "4995\t4808.04\t3.73984\t4.47895\t8.05877"
       ]
      },
      {
       "output_type": "stream",
       "stream": "stdout",
       "text": [
        "\n",
        "5022\t4828.03\t3.74514\t4.49324\t8.06375"
       ]
      },
      {
       "output_type": "stream",
       "stream": "stdout",
       "text": [
        "\n",
        "5049\t4847.94\t3.74643\t4.48258\t8.06191"
       ]
      },
      {
       "output_type": "stream",
       "stream": "stdout",
       "text": [
        "\n",
        "5076\t4867.87\t3.74469\t4.49089\t8.05931"
       ]
      },
      {
       "output_type": "stream",
       "stream": "stdout",
       "text": [
        "\n",
        "5103\t4887.79\t3.74027\t4.48108\t8.05048"
       ]
      },
      {
       "output_type": "stream",
       "stream": "stdout",
       "text": [
        "\n",
        "5130\t4907.75\t3.74354\t4.48121\t8.06322"
       ]
      },
      {
       "output_type": "stream",
       "stream": "stdout",
       "text": [
        "\n",
        "5157\t4927.67\t3.74279\t4.48602\t8.05599"
       ]
      },
      {
       "output_type": "stream",
       "stream": "stdout",
       "text": [
        "\n",
        "5184\t4947.62\t3.74634\t4.49004\t8.06117"
       ]
      },
      {
       "output_type": "stream",
       "stream": "stdout",
       "text": [
        "\n",
        "5211\t4967.56\t3.75267\t4.48709\t8.09023"
       ]
      },
      {
       "output_type": "stream",
       "stream": "stdout",
       "text": [
        "\n",
        "5238\t4987.49\t3.74263\t4.48593\t8.05297"
       ]
      },
      {
       "output_type": "stream",
       "stream": "stdout",
       "text": [
        "\n",
        "5265\t5007.94\t3.74607\t4.50079\t8.07137"
       ]
      },
      {
       "output_type": "stream",
       "stream": "stdout",
       "text": [
        "\n",
        "5292\t5028.04\t3.744\t4.47371\t8.05717"
       ]
      },
      {
       "output_type": "stream",
       "stream": "stdout",
       "text": [
        "\n",
        "5319\t5048.1\t3.73941\t4.47823\t8.04263"
       ]
      },
      {
       "output_type": "stream",
       "stream": "stdout",
       "text": [
        "\n",
        "5346\t5068.09\t3.73842\t4.48481\t8.05905"
       ]
      },
      {
       "output_type": "stream",
       "stream": "stdout",
       "text": [
        "\n",
        "5373\t5088.07\t3.74157\t4.48962\t8.0576"
       ]
      },
      {
       "output_type": "stream",
       "stream": "stdout",
       "text": [
        "\n",
        "5400\t5108.12\t3.73908\t4.48227\t8.05764"
       ]
      },
      {
       "output_type": "stream",
       "stream": "stdout",
       "text": [
        "\n",
        "5427\t5128.11\t3.7373\t4.48138\t8.05092"
       ]
      },
      {
       "output_type": "stream",
       "stream": "stdout",
       "text": [
        "\n",
        "5454\t5148.09\t3.73808\t4.48427\t8.05388"
       ]
      },
      {
       "output_type": "stream",
       "stream": "stdout",
       "text": [
        "\n",
        "5481\t5168.07\t3.74787\t4.49896\t8.08087"
       ]
      },
      {
       "output_type": "stream",
       "stream": "stdout",
       "text": [
        "\n",
        "5508\t5188.05\t3.74147\t4.47923\t8.05637"
       ]
      },
      {
       "output_type": "stream",
       "stream": "stdout",
       "text": [
        "\n",
        "5535\t5208.02\t3.73854\t4.4841\t8.05635"
       ]
      },
      {
       "output_type": "stream",
       "stream": "stdout",
       "text": [
        "\n",
        "5562\t5227.99\t3.74725\t4.50018\t8.07479"
       ]
      },
      {
       "output_type": "stream",
       "stream": "stdout",
       "text": [
        "\n",
        "5589\t5247.99\t3.73743\t4.47742\t8.0571"
       ]
      },
      {
       "output_type": "stream",
       "stream": "stdout",
       "text": [
        "\n",
        "5616\t5267.98\t3.74035\t4.48522\t8.06259"
       ]
      },
      {
       "output_type": "stream",
       "stream": "stdout",
       "text": [
        "\n",
        "5643\t5287.97\t3.73258\t4.47528\t8.05096"
       ]
      },
      {
       "output_type": "stream",
       "stream": "stdout",
       "text": [
        "\n",
        "5670\t5308.17\t3.73805\t4.48381\t8.05121"
       ]
      },
      {
       "output_type": "stream",
       "stream": "stdout",
       "text": [
        "\n",
        "5697\t5328.17\t3.73878\t4.48848\t8.06737"
       ]
      },
      {
       "output_type": "stream",
       "stream": "stdout",
       "text": [
        "\n",
        "5724\t5348.1\t3.73894\t4.47944\t8.05761"
       ]
      },
      {
       "output_type": "stream",
       "stream": "stdout",
       "text": [
        "\n",
        "5751\t5368.08\t3.73392\t4.48107\t8.04701"
       ]
      },
      {
       "output_type": "stream",
       "stream": "stdout",
       "text": [
        "\n",
        "5778\t5388.06\t3.73537\t4.48132\t8.0461"
       ]
      },
      {
       "output_type": "stream",
       "stream": "stdout",
       "text": [
        "\n",
        "5805\t5408.02\t3.73228\t4.48692\t8.05313"
       ]
      },
      {
       "output_type": "stream",
       "stream": "stdout",
       "text": [
        "\n",
        "5832\t5427.96\t3.73751\t4.47676\t8.05584"
       ]
      },
      {
       "output_type": "stream",
       "stream": "stdout",
       "text": [
        "\n",
        "5859\t5447.96\t3.73894\t4.49883\t8.06732"
       ]
      },
      {
       "output_type": "stream",
       "stream": "stdout",
       "text": [
        "\n",
        "5886\t6627.04\t3.73172\t4.482\t8.05769"
       ]
      },
      {
       "output_type": "stream",
       "stream": "stdout",
       "text": [
        "\n",
        "5913\t6647.77\t3.73406\t4.47822\t8.03526"
       ]
      },
      {
       "output_type": "stream",
       "stream": "stdout",
       "text": [
        "\n",
        "5940\t6667.94\t3.74299\t4.49662\t8.08119"
       ]
      },
      {
       "output_type": "stream",
       "stream": "stdout",
       "text": [
        "\n",
        "5967\t6687.96\t3.7465\t4.49577\t8.06689"
       ]
      },
      {
       "output_type": "stream",
       "stream": "stdout",
       "text": [
        "\n",
        "5994\t6707.91\t3.74313\t4.49196\t8.07279"
       ]
      },
      {
       "output_type": "stream",
       "stream": "stdout",
       "text": [
        "\n",
        "6021\t6727.87\t3.7471\t4.50177\t8.07365"
       ]
      },
      {
       "output_type": "stream",
       "stream": "stdout",
       "text": [
        "\n",
        "6048\t6747.81\t3.73519\t4.48305\t8.06288"
       ]
      },
      {
       "output_type": "stream",
       "stream": "stdout",
       "text": [
        "\n",
        "6075\t6767.78\t3.73159\t4.47903\t8.0494"
       ]
      },
      {
       "output_type": "stream",
       "stream": "stdout",
       "text": [
        "\n",
        "6102\t6787.79\t3.73434\t4.49082\t8.06981"
       ]
      },
      {
       "output_type": "stream",
       "stream": "stdout",
       "text": [
        "\n",
        "6129\t6807.77\t3.73753\t4.4852\t8.06149"
       ]
      },
      {
       "output_type": "stream",
       "stream": "stdout",
       "text": [
        "\n",
        "6156\t6827.77\t3.7304\t4.49017\t8.04979"
       ]
      },
      {
       "output_type": "stream",
       "stream": "stdout",
       "text": [
        "\n",
        "6183\t6847.73\t3.72654\t4.48648\t8.04956"
       ]
      },
      {
       "output_type": "stream",
       "stream": "stdout",
       "text": [
        "\n",
        "6210\t6867.69\t3.72982\t4.47405\t8.04804"
       ]
      },
      {
       "output_type": "stream",
       "stream": "stdout",
       "text": [
        "\n",
        "6237\t6887.68\t3.73421\t4.48708\t8.05234"
       ]
      },
      {
       "output_type": "stream",
       "stream": "stdout",
       "text": [
        "\n",
        "6264\t6907.67\t3.73081\t4.49405\t8.05686"
       ]
      },
      {
       "output_type": "stream",
       "stream": "stdout",
       "text": [
        "\n",
        "6291\t6927.67\t3.72546\t4.47436\t8.03386"
       ]
      },
      {
       "output_type": "stream",
       "stream": "stdout",
       "text": [
        "\n",
        "6318\t6947.65\t3.72192\t4.47594\t8.04576"
       ]
      },
      {
       "output_type": "stream",
       "stream": "stdout",
       "text": [
        "\n",
        "6345\t6967.62\t3.72677\t4.47814\t8.04441"
       ]
      },
      {
       "output_type": "stream",
       "stream": "stdout",
       "text": [
        "\n",
        "6372\t6987.57\t3.72822\t4.48634\t8.06081"
       ]
      },
      {
       "output_type": "stream",
       "stream": "stdout",
       "text": [
        "\n",
        "6399\t7007.54\t3.72933\t4.48976\t8.05136"
       ]
      },
      {
       "output_type": "stream",
       "stream": "stdout",
       "text": [
        "\n",
        "6426\t7027.48\t3.72808\t4.48712\t8.05045"
       ]
      },
      {
       "output_type": "stream",
       "stream": "stdout",
       "text": [
        "\n",
        "6453\t7047.45\t3.72725\t4.48417\t8.04714"
       ]
      },
      {
       "output_type": "stream",
       "stream": "stdout",
       "text": [
        "\n",
        "6480\t7067.42\t3.7255\t4.48331\t8.0514"
       ]
      },
      {
       "output_type": "stream",
       "stream": "stdout",
       "text": [
        "\n",
        "6507\t7087.37\t3.7253\t4.48277\t8.0388"
       ]
      },
      {
       "output_type": "stream",
       "stream": "stdout",
       "text": [
        "\n",
        "6534\t7107.7\t3.72394\t4.47032\t8.05652"
       ]
      },
      {
       "output_type": "stream",
       "stream": "stdout",
       "text": [
        "\n",
        "6561\t7128.18\t3.72394\t4.49018\t8.04628"
       ]
      },
      {
       "output_type": "stream",
       "stream": "stdout",
       "text": [
        "\n",
        "6588\t7149.23\t3.72141\t4.47465\t8.04009"
       ]
      },
      {
       "output_type": "stream",
       "stream": "stdout",
       "text": [
        "\n",
        "6615\t7169.98\t3.72642\t4.48172\t8.04682"
       ]
      },
      {
       "output_type": "stream",
       "stream": "stdout",
       "text": [
        "\n",
        "6642\t7190.16\t3.72789\t4.48861\t8.06825"
       ]
      },
      {
       "output_type": "stream",
       "stream": "stdout",
       "text": [
        "\n",
        "6669\t7210.59\t3.73353\t4.49132\t8.06318"
       ]
      },
      {
       "output_type": "stream",
       "stream": "stdout",
       "text": [
        "\n",
        "6696\t7230.97\t3.72922\t4.49129\t8.05051"
       ]
      },
      {
       "output_type": "stream",
       "stream": "stdout",
       "text": [
        "\n",
        "6723\t7251.41\t3.73112\t4.48764\t8.07328"
       ]
      },
      {
       "output_type": "stream",
       "stream": "stdout",
       "text": [
        "\n",
        "6750\t7272.09\t3.72928\t4.4849\t8.0632"
       ]
      }
     ]
    },
    {
     "cell_type": "code",
     "collapsed": false,
     "input": [
      "m.parameters.data[...] = info['best_pars']"
     ],
     "language": "python",
     "metadata": {},
     "outputs": [],
     "prompt_number": 16
    }
   ],
   "metadata": {}
  }
 ]
}