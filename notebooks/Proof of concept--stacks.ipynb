{
 "metadata": {
  "name": "",
  "signature": "sha256:cfc4ecee2c81367b1b6e11a33544f6ff76f27664177f2f005eb16158d9bf7aa6"
 },
 "nbformat": 3,
 "nbformat_minor": 0,
 "worksheets": [
  {
   "cells": [
    {
     "cell_type": "code",
     "collapsed": false,
     "input": [
      "import numpy as np\n",
      "import matplotlib.pyplot as plt\n",
      "%matplotlib inline\n",
      "\n",
      "import theano\n",
      "import theano.tensor as T\n",
      "\n",
      "import climin.initialize\n",
      "import climin.stops\n",
      "\n",
      "from breze.arch.construct import base\n",
      "from breze.arch.construct.layer import simple, varprop\n",
      "reload(base)\n",
      "reload(simple)\n",
      "reload(varprop)"
     ],
     "language": "python",
     "metadata": {},
     "outputs": [
      {
       "metadata": {},
       "output_type": "pyout",
       "prompt_number": 5,
       "text": [
        "<module 'breze.arch.construct.layer.varprop' from '/Users/bayerj/devel/breze/breze/arch/construct/layer/varprop.py'>"
       ]
      }
     ],
     "prompt_number": 5
    },
    {
     "cell_type": "code",
     "collapsed": false,
     "input": [
      "X = np.linspace(-1, 1, 100)[:, np.newaxis].astype('float32')\n",
      "Z = X ** 2 + np.random.standard_normal(X.shape)"
     ],
     "language": "python",
     "metadata": {},
     "outputs": [],
     "prompt_number": 2
    },
    {
     "cell_type": "code",
     "collapsed": false,
     "input": [
      "inpt = T.matrix('inpt')\n",
      "target = T.matrix('target')\n",
      "\n",
      "typ = 'fd'\n",
      "\n",
      "if typ == 'plain':\n",
      "    layers = [\n",
      "        simple.AffineNonlinear(1, 20, 'tanh'),\n",
      "        #simple.AffineNonlinear(10, 10, 'tanh'),\n",
      "        simple.AffineNonlinear(20, 1)\n",
      "    ]\n",
      "\n",
      "elif typ == 'fd':\n",
      "    layers = [\n",
      "        varprop.AugmentVariance(),\n",
      "        varprop.FastDropout(.1),\n",
      "        varprop.AffineNonLinear(1, 20, 'sigmoid'),\n",
      "        #varprop.FastDropout(.2),\n",
      "        varprop.AffineNonLinear(20, 1),\n",
      "        varprop.DiscardVariance()\n",
      "    ]\n",
      "\n",
      "loss = simple.SupervisedLoss('squared', target)\n",
      "s = base.SupervisedStack(layers, loss)\n",
      "s.forward(inpt)\n",
      "\n",
      "s.optimizer = 'adam'"
     ],
     "language": "python",
     "metadata": {},
     "outputs": [],
     "prompt_number": 6
    },
    {
     "cell_type": "code",
     "collapsed": false,
     "input": [
      "climin.initialize.randomize_normal(s.parameters.data, 0, .1)"
     ],
     "language": "python",
     "metadata": {},
     "outputs": [],
     "prompt_number": 7
    },
    {
     "cell_type": "code",
     "collapsed": false,
     "input": [
      "stop = climin.stops.AfterNIterations(100000)\n",
      "report = climin.stops.ModuloNIterations(1000)\n",
      "\n",
      "for info in s.powerfit((X, Z), (X, Z), stop=stop, report=report):\n",
      "    print info['loss']"
     ],
     "language": "python",
     "metadata": {},
     "outputs": [
      {
       "output_type": "stream",
       "stream": "stderr",
       "text": [
        "/Users/bayerj/devel/Theano/theano/tensor/subtensor.py:111: FutureWarning: comparison to `None` will result in an elementwise object comparison in the future.\n",
        "  start in [None, 0] or\n",
        "/Users/bayerj/devel/Theano/theano/tensor/subtensor.py:115: FutureWarning: comparison to `None` will result in an elementwise object comparison in the future.\n",
        "  stop in [None, length, maxsize] or\n",
        "/Users/bayerj/devel/Theano/theano/tensor/subtensor.py:191: FutureWarning: comparison to `None` will result in an elementwise object comparison in the future.\n",
        "  if stop in [None, maxsize]:\n",
        "/Users/bayerj/devel/climin/climin/util.py:150: UserWarning: Argument named f is not expected by <class 'climin.adam.Adam'>\n",
        "  % (i, klass))\n"
       ]
      },
      {
       "output_type": "stream",
       "stream": "stdout",
       "text": [
        "0.972225\n",
        "0.97158"
       ]
      },
      {
       "output_type": "stream",
       "stream": "stdout",
       "text": [
        "\n",
        "0.971483"
       ]
      },
      {
       "output_type": "stream",
       "stream": "stdout",
       "text": [
        "\n",
        "0.971353"
       ]
      },
      {
       "output_type": "stream",
       "stream": "stdout",
       "text": [
        "\n",
        "0.970896"
       ]
      },
      {
       "output_type": "stream",
       "stream": "stdout",
       "text": [
        "\n",
        "0.968875"
       ]
      },
      {
       "output_type": "stream",
       "stream": "stdout",
       "text": [
        "\n",
        "0.960215"
       ]
      },
      {
       "output_type": "stream",
       "stream": "stdout",
       "text": [
        "\n",
        "0.941602"
       ]
      },
      {
       "output_type": "stream",
       "stream": "stdout",
       "text": [
        "\n",
        "0.923859"
       ]
      },
      {
       "output_type": "stream",
       "stream": "stdout",
       "text": [
        "\n",
        "0.916155"
       ]
      },
      {
       "output_type": "stream",
       "stream": "stdout",
       "text": [
        "\n",
        "0.914332"
       ]
      },
      {
       "output_type": "stream",
       "stream": "stdout",
       "text": [
        "\n",
        "0.91294"
       ]
      },
      {
       "output_type": "stream",
       "stream": "stdout",
       "text": [
        "\n",
        "0.911134"
       ]
      },
      {
       "output_type": "stream",
       "stream": "stdout",
       "text": [
        "\n",
        "0.908705"
       ]
      },
      {
       "output_type": "stream",
       "stream": "stdout",
       "text": [
        "\n",
        "0.905636"
       ]
      },
      {
       "output_type": "stream",
       "stream": "stdout",
       "text": [
        "\n",
        "0.902279"
       ]
      },
      {
       "output_type": "stream",
       "stream": "stdout",
       "text": [
        "\n",
        "0.899345"
       ]
      },
      {
       "output_type": "stream",
       "stream": "stdout",
       "text": [
        "\n",
        "0.897018"
       ]
      },
      {
       "output_type": "stream",
       "stream": "stdout",
       "text": [
        "\n",
        "0.894752"
       ]
      },
      {
       "output_type": "stream",
       "stream": "stdout",
       "text": [
        "\n",
        "0.892234"
       ]
      },
      {
       "output_type": "stream",
       "stream": "stdout",
       "text": [
        "\n",
        "0.88956"
       ]
      },
      {
       "output_type": "stream",
       "stream": "stdout",
       "text": [
        "\n",
        "0.886968"
       ]
      },
      {
       "output_type": "stream",
       "stream": "stdout",
       "text": [
        "\n",
        "0.884635"
       ]
      },
      {
       "output_type": "stream",
       "stream": "stdout",
       "text": [
        "\n",
        "0.882571"
       ]
      },
      {
       "output_type": "stream",
       "stream": "stdout",
       "text": [
        "\n",
        "0.880851"
       ]
      },
      {
       "output_type": "stream",
       "stream": "stdout",
       "text": [
        "\n",
        "0.879459"
       ]
      },
      {
       "output_type": "stream",
       "stream": "stdout",
       "text": [
        "\n",
        "0.878088"
       ]
      },
      {
       "output_type": "stream",
       "stream": "stdout",
       "text": [
        "\n",
        "0.87666"
       ]
      },
      {
       "output_type": "stream",
       "stream": "stdout",
       "text": [
        "\n",
        "0.875259"
       ]
      },
      {
       "output_type": "stream",
       "stream": "stdout",
       "text": [
        "\n",
        "0.873974"
       ]
      },
      {
       "output_type": "stream",
       "stream": "stdout",
       "text": [
        "\n",
        "0.872836"
       ]
      },
      {
       "output_type": "stream",
       "stream": "stdout",
       "text": [
        "\n",
        "0.871844"
       ]
      },
      {
       "output_type": "stream",
       "stream": "stdout",
       "text": [
        "\n",
        "0.870966"
       ]
      },
      {
       "output_type": "stream",
       "stream": "stdout",
       "text": [
        "\n",
        "0.870127"
       ]
      },
      {
       "output_type": "stream",
       "stream": "stdout",
       "text": [
        "\n",
        "0.869292"
       ]
      },
      {
       "output_type": "stream",
       "stream": "stdout",
       "text": [
        "\n",
        "0.868474"
       ]
      },
      {
       "output_type": "stream",
       "stream": "stdout",
       "text": [
        "\n",
        "0.867686"
       ]
      },
      {
       "output_type": "stream",
       "stream": "stdout",
       "text": [
        "\n",
        "0.86694"
       ]
      },
      {
       "output_type": "stream",
       "stream": "stdout",
       "text": [
        "\n",
        "0.866257"
       ]
      },
      {
       "output_type": "stream",
       "stream": "stdout",
       "text": [
        "\n",
        "0.865648"
       ]
      },
      {
       "output_type": "stream",
       "stream": "stdout",
       "text": [
        "\n",
        "0.865117"
       ]
      },
      {
       "output_type": "stream",
       "stream": "stdout",
       "text": [
        "\n",
        "0.864658"
       ]
      },
      {
       "output_type": "stream",
       "stream": "stdout",
       "text": [
        "\n",
        "0.864256"
       ]
      },
      {
       "output_type": "stream",
       "stream": "stdout",
       "text": [
        "\n"
       ]
      }
     ],
     "prompt_number": 8
    },
    {
     "cell_type": "code",
     "collapsed": false,
     "input": [
      "#climin.initialize.randomize_normal(s.parameters.data, 0, .1)\n",
      "Y = s.predict(X)"
     ],
     "language": "python",
     "metadata": {},
     "outputs": [],
     "prompt_number": 9
    },
    {
     "cell_type": "code",
     "collapsed": false,
     "input": [
      "plt.plot(X[:, 0], Y[:, 0], 'x-')\n",
      "plt.plot(X[:, 0], Z[:, 0], 'x-')"
     ],
     "language": "python",
     "metadata": {},
     "outputs": [
      {
       "metadata": {},
       "output_type": "pyout",
       "prompt_number": 10,
       "text": [
        "[<matplotlib.lines.Line2D at 0x11846cfd0>]"
       ]
      },
      {
       "metadata": {},
       "output_type": "display_data",
       "png": "[encoded data removed]",
       "text": [
        "<matplotlib.figure.Figure at 0x11847b050>"
       ]
      }
     ],
     "prompt_number": 10
    },
    {
     "cell_type": "code",
     "collapsed": false,
     "input": [
      "g = theano.grad(s.exprs['loss'], s.parameters.flat)"
     ],
     "language": "python",
     "metadata": {},
     "outputs": [],
     "prompt_number": 11
    },
    {
     "cell_type": "code",
     "collapsed": false,
     "input": [
      "s.loss.exprs['coord_wise'].eval({s.exprs['inpt']: X, target: Z, s.parameters.flat: s.parameters.data})"
     ],
     "language": "python",
     "metadata": {},
     "outputs": [
      {
       "metadata": {},
       "output_type": "pyout",
       "prompt_number": 19,
       "text": [
        "array([[  4.35512930e-01],\n",
        "       [  3.84323150e-01],\n",
        "       [  3.37280393e-01],\n",
        "       [  2.94192195e-01],\n",
        "       [  2.54871160e-01],\n",
        "       [  2.19133332e-01],\n",
        "       [  1.86798573e-01],\n",
        "       [  1.57691151e-01],\n",
        "       [  1.31639302e-01],\n",
        "       [  1.08474910e-01],\n",
        "       [  8.80341604e-02],\n",
        "       [  7.01571852e-02],\n",
        "       [  5.46880253e-02],\n",
        "       [  4.14748266e-02],\n",
        "       [  3.03696599e-02],\n",
        "       [  2.12285966e-02],\n",
        "       [  1.39117436e-02],\n",
        "       [  8.28318950e-03],\n",
        "       [  4.21099784e-03],\n",
        "       [  1.56726432e-03],\n",
        "       [  2.28049670e-04],\n",
        "       [  7.34410787e-05],\n",
        "       [  9.87504376e-04],\n",
        "       [  2.85830954e-03],\n",
        "       [  5.57793025e-03],\n",
        "       [  9.04242042e-03],\n",
        "       [  1.31518524e-02],\n",
        "       [  1.78102665e-02],\n",
        "       [  2.29257587e-02],\n",
        "       [  2.84103323e-02],\n",
        "       [  3.41800824e-02],\n",
        "       [  4.01550345e-02],\n",
        "       [  4.62592356e-02],\n",
        "       [  5.24207279e-02],\n",
        "       [  5.85715957e-02],\n",
        "       [  6.46478310e-02],\n",
        "       [  7.05894679e-02],\n",
        "       [  7.63405785e-02],\n",
        "       [  8.18491653e-02],\n",
        "       [  8.70672837e-02],\n",
        "       [  9.19509009e-02],\n",
        "       [  9.64601338e-02],\n",
        "       [  1.00558922e-01],\n",
        "       [  1.04215354e-01],\n",
        "       [  1.07401386e-01],\n",
        "       [  1.10093072e-01],\n",
        "       [  1.12270400e-01],\n",
        "       [  1.13917395e-01],\n",
        "       [  1.15022063e-01],\n",
        "       [  1.15576394e-01],\n",
        "       [  1.15576416e-01],\n",
        "       [  1.15022123e-01],\n",
        "       [  1.13917500e-01],\n",
        "       [  1.12270519e-01],\n",
        "       [  1.10093243e-01],\n",
        "       [  1.07401580e-01],\n",
        "       [  1.04215585e-01],\n",
        "       [  1.00559205e-01],\n",
        "       [  9.64604467e-02],\n",
        "       [  9.19512287e-02],\n",
        "       [  8.70676041e-02],\n",
        "       [  8.18495303e-02],\n",
        "       [  7.63409734e-02],\n",
        "       [  7.05898777e-02],\n",
        "       [  6.46482408e-02],\n",
        "       [  5.85720129e-02],\n",
        "       [  5.24211787e-02],\n",
        "       [  4.62596603e-02],\n",
        "       [  4.01554517e-02],\n",
        "       [  3.41804773e-02],\n",
        "       [  2.84107253e-02],\n",
        "       [  2.29261201e-02],\n",
        "       [  1.78106092e-02],\n",
        "       [  1.31521532e-02],\n",
        "       [  9.04268119e-03],\n",
        "       [  5.57814864e-03],\n",
        "       [  2.85847206e-03],\n",
        "       [  9.87599837e-04],\n",
        "       [  7.34681526e-05],\n",
        "       [  2.28000164e-04],\n",
        "       [  1.56712986e-03],\n",
        "       [  4.21077386e-03],\n",
        "       [  8.28285888e-03],\n",
        "       [  1.39113078e-02],\n",
        "       [  2.12280322e-02],\n",
        "       [  3.03689744e-02],\n",
        "       [  4.14739884e-02],\n",
        "       [  5.46870641e-02],\n",
        "       [  7.01560304e-02],\n",
        "       [  8.80328566e-02],\n",
        "       [  1.08473405e-01],\n",
        "       [  1.31637618e-01],\n",
        "       [  1.57689258e-01],\n",
        "       [  1.86796442e-01],\n",
        "       [  2.19130978e-01],\n",
        "       [  2.54868627e-01],\n",
        "       [  2.94189364e-01],\n",
        "       [  3.37277323e-01],\n",
        "       [  3.84319812e-01],\n",
        "       [  4.35509324e-01]], dtype=float32)"
       ]
      }
     ],
     "prompt_number": 19
    }
   ],
   "metadata": {}
  }
 ]
}