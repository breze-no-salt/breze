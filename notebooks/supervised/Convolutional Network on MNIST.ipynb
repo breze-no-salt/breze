{
 "metadata": {
  "name": "",
  "signature": "sha256:71a70b931088c348378a677d8d458d1f718ab939766193f7d5d7593289a25085"
 },
 "nbformat": 3,
 "nbformat_minor": 0,
 "worksheets": [
  {
   "cells": [
    {
     "cell_type": "code",
     "collapsed": false,
     "input": [
      "import cPickle\n",
      "import itertools\n",
      "import gzip\n",
      "import time\n",
      "\n",
      "import numpy as np\n",
      "import theano\n",
      "import theano.tensor as T\n",
      "\n",
      "import climin.stops\n",
      "import climin.initialize\n",
      "import climin.project\n",
      "import climin.schedule\n",
      "\n",
      "import breze.arch.util\n",
      "\n",
      "import breze.learn.base\n",
      "from breze.learn.data import one_hot\n",
      "\n",
      "from breze.learn import cnn\n",
      "\n",
      "import matplotlib.pyplot as plt\n",
      "%matplotlib inline"
     ],
     "language": "python",
     "metadata": {},
     "outputs": [],
     "prompt_number": 7
    },
    {
     "cell_type": "markdown",
     "metadata": {},
     "source": [
      "Prepare Data\n",
      "============\n",
      "\n",
      "We load the MNIST data. It is available at http://www.iro.umontreal.ca/~lisa/deep/data/mnist/mnist.pkl.gz.\n",
      "\n",
      "The inputs all lie between 0 and 1. Each target is a variable where the correct class is marked with a ``1`` and the wrong classes with ``-1``."
     ]
    },
    {
     "cell_type": "code",
     "collapsed": false,
     "input": [
      "datafile = '../mnist.pkl.gz'\n",
      "# Load data.                                                                                                   \n",
      "\n",
      "with gzip.open(datafile,'rb') as f:                                                                        \n",
      "    train_set, val_set, test_set = cPickle.load(f)                                                       \n",
      "\n",
      "X, Z = train_set                                                                                               \n",
      "VX, VZ = val_set\n",
      "TX, TZ = test_set\n",
      "\n",
      "Z = one_hot(Z, 10)\n",
      "VZ = one_hot(VZ, 10)\n",
      "TZ = one_hot(TZ, 10)\n",
      "\n",
      "image_height, image_width = image_dims = 28, 28\n",
      "X = X.reshape((-1, 1, image_height, image_width))\n",
      "VX = VX.reshape((-1, 1, image_height, image_width))\n",
      "TX = TX.reshape((-1, 1, image_height, image_width))\n",
      "\n",
      "X, Z, VX, VZ, TX, TZ = [breze.learn.base.cast_array_to_local_type(i) for i in (X, Z, VX, VZ, TX, TZ)]"
     ],
     "language": "python",
     "metadata": {},
     "outputs": [],
     "prompt_number": 2
    },
    {
     "cell_type": "code",
     "collapsed": false,
     "input": [
      "max_passes = 400\n",
      "batch_size = 100\n",
      "max_iter = max_passes * X.shape[0] / batch_size\n",
      "n_report = X.shape[0] / batch_size\n",
      "\n",
      "stop = climin.stops.AfterNIterations(max_iter)\n",
      "pause = climin.stops.ModuloNIterations(n_report)\n",
      "\n",
      "optimizer = 'adadelta'\n",
      "#optimizer = dropout_optimizer_conf(steprate_0=1, n_repeats=1)\n",
      "m = cnn.Lenet(image_height, image_width, \n",
      "              1, \n",
      "              n_hiddens_conv=[10, 10], \n",
      "              filter_shapes=[(5, 5), (5, 5)],\n",
      "              pool_shapes=[(2, 2), (2, 2)],\n",
      "              n_hiddens_full=[500],\n",
      "              n_output=10, \n",
      "              hidden_transfers_conv=['rectifier', 'rectifier'],\n",
      "              hidden_transfers_full=['rectifier'],\n",
      "              out_transfer='softmax',\n",
      "              loss='cat_ce', optimizer=optimizer, batch_size=batch_size, max_iter=max_iter)\n",
      "\n",
      "m.parameters.data[...] = np.random.normal(0, 0.01, m.parameters.data.shape)\n",
      "\n",
      "\n",
      "def f_n_wrong(x, z):\n",
      "    y = m.predict(x)\n",
      "    return (y.argmax(axis=1) != z.argmax(axis=1)).sum()\n",
      "        \n",
      "    \n",
      "losses = []\n",
      "print 'max iter', max_iter"
     ],
     "language": "python",
     "metadata": {},
     "outputs": [
      {
       "output_type": "stream",
       "stream": "stdout",
       "text": [
        "Height: 28 Width: 28\n",
        "Filter shape: 5 5\n",
        "Pool shape: 2 2\n",
        "incoming/outgoing: 1 10\n",
        "Calculated shape after conv: 24 24\n",
        "Calculated shape after max: 12 12\n",
        "------------------------------\n",
        "Height: 12 Width: 12\n",
        "Filter shape: 5 5\n",
        "Pool shape: 2 2\n",
        "incoming/outgoing: 10 10\n",
        "Calculated shape after conv: 8 8\n",
        "Calculated shape after max: 4 4\n",
        "------------------------------\n",
        "max iter 200000\n"
       ]
      }
     ],
     "prompt_number": 17
    },
    {
     "cell_type": "code",
     "collapsed": false,
     "input": [
      "start = time.time()\n",
      "# Set up a nice printout.\n",
      "keys = '#', 'seconds', 'loss', 'val loss', 'train emp', 'test emp'\n",
      "max_len = max(len(i) for i in keys)\n",
      "header = '\\t'.join(i for i in keys)\n",
      "print header\n",
      "print '-' * len(header)\n",
      "\n",
      "for i, info in enumerate(m.powerfit((X, Z), (VX, VZ), stop, pause)):\n",
      "    if info['n_iter'] % n_report != 0:\n",
      "        continue\n",
      "    passed = time.time() - start\n",
      "    losses.append((info['loss'], info['val_loss']))\n",
      "    \n",
      "    #img = tile_raster_images(fe.parameters['in_to_hidden'].T, image_dims, feature_dims, (1, 1))\n",
      "    #save_and_display(img, 'filters-%i.png' % i)  \n",
      "    info.update({\n",
      "        'time': passed,\n",
      "        'train_emp': f_n_wrong(X, Z),\n",
      "        'test_emp': f_n_wrong(TX, TZ),\n",
      "    })\n",
      "    row = '%(n_iter)i\\t%(time)g\\t%(loss)g\\t%(val_loss)g\\t%(train_emp)g\\t%(test_emp)g' % info\n",
      "    print row"
     ],
     "language": "python",
     "metadata": {},
     "outputs": [
      {
       "output_type": "stream",
       "stream": "stdout",
       "text": [
        "#\tseconds\tloss\tval loss\ttrain emp\ttest emp\n",
        "------------------------------------------\n",
        "500\t77.0582\t0.20123\t0.191494\t3120\t582"
       ]
      },
      {
       "output_type": "stream",
       "stream": "stdout",
       "text": [
        "\n",
        "1000\t162.011\t0.0728378\t0.0869705\t1123\t228"
       ]
      },
      {
       "output_type": "stream",
       "stream": "stdout",
       "text": [
        "\n",
        "1500\t247.098\t0.0662269\t0.0819867\t1026\t233"
       ]
      },
      {
       "output_type": "stream",
       "stream": "stdout",
       "text": [
        "\n",
        "2000\t332.27\t0.0818022\t0.0992056\t1273\t285"
       ]
      },
      {
       "output_type": "stream",
       "stream": "stdout",
       "text": [
        "\n",
        "2500\t417.203\t0.0464466\t0.0726255\t691\t197"
       ]
      },
      {
       "output_type": "stream",
       "stream": "stdout",
       "text": [
        "\n",
        "3000\t502.413\t0.0647268\t0.0908273\t926\t255"
       ]
      },
      {
       "output_type": "stream",
       "stream": "stdout",
       "text": [
        "\n",
        "3500\t587.745\t0.0516804\t0.0810455\t770\t204"
       ]
      },
      {
       "output_type": "stream",
       "stream": "stdout",
       "text": [
        "\n",
        "4000\t672.889\t0.0340545\t0.0731495\t563\t203"
       ]
      },
      {
       "output_type": "stream",
       "stream": "stdout",
       "text": [
        "\n",
        "4500\t758.447\t0.0316478\t0.0740175\t496\t203"
       ]
      },
      {
       "output_type": "stream",
       "stream": "stdout",
       "text": [
        "\n",
        "5000\t843.099\t0.0352131\t0.0749452\t541\t194"
       ]
      },
      {
       "output_type": "stream",
       "stream": "stdout",
       "text": [
        "\n",
        "5500\t927.624\t0.0319147\t0.0636115\t502\t177"
       ]
      },
      {
       "output_type": "stream",
       "stream": "stdout",
       "text": [
        "\n",
        "6000\t1012.19\t0.0334701\t0.0748003\t505\t207"
       ]
      },
      {
       "output_type": "stream",
       "stream": "stdout",
       "text": [
        "\n",
        "6500\t1096.72\t0.0251233\t0.0731852\t400\t162"
       ]
      },
      {
       "output_type": "stream",
       "stream": "stdout",
       "text": [
        "\n",
        "7000\t1181.88\t0.028179\t0.0676837\t447\t178"
       ]
      },
      {
       "output_type": "stream",
       "stream": "stdout",
       "text": [
        "\n",
        "7500\t1270.17\t0.0249396\t0.0821235\t372\t176"
       ]
      },
      {
       "output_type": "stream",
       "stream": "stdout",
       "text": [
        "\n",
        "8000\t1363.03\t0.0295343\t0.0826533\t426\t180"
       ]
      },
      {
       "output_type": "stream",
       "stream": "stdout",
       "text": [
        "\n",
        "8500\t1454.04\t0.0325123\t0.0851889\t487\t188"
       ]
      },
      {
       "output_type": "stream",
       "stream": "stdout",
       "text": [
        "\n",
        "9000\t1543.15\t0.0342497\t0.0939383\t480\t201"
       ]
      },
      {
       "output_type": "stream",
       "stream": "stdout",
       "text": [
        "\n",
        "9500\t1631.01\t0.015848\t0.0801074\t236\t160"
       ]
      },
      {
       "output_type": "stream",
       "stream": "stdout",
       "text": [
        "\n",
        "10000\t1718.89\t0.0209919\t0.0902635\t348\t179"
       ]
      },
      {
       "output_type": "stream",
       "stream": "stdout",
       "text": [
        "\n",
        "10500\t1810.03\t0.0268077\t0.107765\t350\t179"
       ]
      },
      {
       "output_type": "stream",
       "stream": "stdout",
       "text": [
        "\n",
        "11000\t1898.61\t0.0364229\t0.107835\t495\t203"
       ]
      },
      {
       "output_type": "stream",
       "stream": "stdout",
       "text": [
        "\n",
        "11500\t1987.71\t0.0321794\t0.123222\t394\t183"
       ]
      },
      {
       "output_type": "stream",
       "stream": "stdout",
       "text": [
        "\n",
        "12000\t2076.23\t0.016944\t0.0917457\t247\t159"
       ]
      },
      {
       "output_type": "stream",
       "stream": "stdout",
       "text": [
        "\n",
        "12500\t2164.49\t0.0227709\t0.106163\t301\t157"
       ]
      },
      {
       "output_type": "stream",
       "stream": "stdout",
       "text": [
        "\n",
        "13000\t2252.63\t0.0245787\t0.0951844\t340\t170"
       ]
      },
      {
       "output_type": "stream",
       "stream": "stdout",
       "text": [
        "\n",
        "13500\t2341.85\t0.0274443\t0.107479\t340\t158"
       ]
      },
      {
       "output_type": "stream",
       "stream": "stdout",
       "text": [
        "\n",
        "14000\t2430.87\t0.0256534\t0.11852\t326\t178"
       ]
      },
      {
       "output_type": "stream",
       "stream": "stdout",
       "text": [
        "\n",
        "14500\t2519.41\t0.0398928\t0.129771\t478\t223"
       ]
      },
      {
       "output_type": "stream",
       "stream": "stdout",
       "text": [
        "\n",
        "15000\t2608.38\t0.0126274\t0.0855444\t195\t165"
       ]
      },
      {
       "output_type": "stream",
       "stream": "stdout",
       "text": [
        "\n",
        "15500\t2696.44\t0.0363737\t0.126796\t416\t205"
       ]
      },
      {
       "output_type": "stream",
       "stream": "stdout",
       "text": [
        "\n",
        "16000\t2784.15\t0.0169404\t0.102885\t247\t177"
       ]
      },
      {
       "output_type": "stream",
       "stream": "stdout",
       "text": [
        "\n",
        "16500\t2872.1\t0.017432\t0.108097\t233\t181"
       ]
      },
      {
       "output_type": "stream",
       "stream": "stdout",
       "text": [
        "\n",
        "17000\t2960.09\t0.0199099\t0.11517\t255\t181"
       ]
      },
      {
       "output_type": "stream",
       "stream": "stdout",
       "text": [
        "\n",
        "17500\t3047.89\t0.0188826\t0.123017\t229\t183"
       ]
      },
      {
       "output_type": "stream",
       "stream": "stdout",
       "text": [
        "\n",
        "18000\t3135.75\t0.0160564\t0.110794\t211\t183"
       ]
      },
      {
       "output_type": "stream",
       "stream": "stdout",
       "text": [
        "\n",
        "18500\t3223.59\t0.0147301\t0.113044\t204\t160"
       ]
      },
      {
       "output_type": "stream",
       "stream": "stdout",
       "text": [
        "\n",
        "19000\t3311.38\t0.0195172\t0.108235\t229\t160"
       ]
      },
      {
       "output_type": "stream",
       "stream": "stdout",
       "text": [
        "\n",
        "19500\t3399.19\t0.0187036\t0.13728\t207\t181"
       ]
      },
      {
       "output_type": "stream",
       "stream": "stdout",
       "text": [
        "\n",
        "20000\t3488.05\t0.0149817\t0.110133\t184\t158"
       ]
      },
      {
       "output_type": "stream",
       "stream": "stdout",
       "text": [
        "\n",
        "20500\t3577.46\t0.0264477\t0.111599\t342\t211"
       ]
      },
      {
       "output_type": "stream",
       "stream": "stdout",
       "text": [
        "\n",
        "21000\t3668.72\t0.015397\t0.130547\t184\t177"
       ]
      },
      {
       "output_type": "stream",
       "stream": "stdout",
       "text": [
        "\n",
        "21500\t3758.47\t0.0170944\t0.128688\t178\t182"
       ]
      },
      {
       "output_type": "stream",
       "stream": "stdout",
       "text": [
        "\n"
       ]
      }
     ],
     "prompt_number": 18
    },
    {
     "cell_type": "markdown",
     "metadata": {},
     "source": [
      "Parameters that did best on the, uh, testing set."
     ]
    },
    {
     "cell_type": "code",
     "collapsed": false,
     "input": [
      "m.parameters.data[...] = info['best_pars']"
     ],
     "language": "python",
     "metadata": {},
     "outputs": [],
     "prompt_number": 19
    },
    {
     "cell_type": "markdown",
     "metadata": {},
     "source": [
      "Evaluation\n",
      "=========="
     ]
    },
    {
     "cell_type": "code",
     "collapsed": false,
     "input": [
      "fig = plt.figure(figsize=(16, 9))\n",
      "ax = fig.add_subplot(111)\n",
      "ax.plot(losses)"
     ],
     "language": "python",
     "metadata": {},
     "outputs": [
      {
       "metadata": {},
       "output_type": "pyout",
       "prompt_number": 20,
       "text": [
        "[<matplotlib.lines.Line2D at 0x125b1a490>,\n",
        " <matplotlib.lines.Line2D at 0x125b1ab50>]"
       ]
      },
      {
       "metadata": {},
       "output_type": "display_data",
       "png": "[encoded data removed]",
       "text": [
        "<matplotlib.figure.Figure at 0x1266f5790>"
       ]
      }
     ],
     "prompt_number": 20
    },
    {
     "cell_type": "code",
     "collapsed": false,
     "input": [
      "f_predict = m.function(['inpt'], T.argmax(m.mlp.output, axis=1))\n",
      "\n",
      "TY = f_predict(TX)\n",
      "\n",
      "print 'Number of mistakes on the testing set:', (TY != TZ.argmax(axis=1)).sum()"
     ],
     "language": "python",
     "metadata": {},
     "outputs": [
      {
       "output_type": "stream",
       "stream": "stdout",
       "text": [
        "Number of mistakes on the testing set: 177\n"
       ]
      }
     ],
     "prompt_number": 23
    }
   ],
   "metadata": {}
  }
 ]
}