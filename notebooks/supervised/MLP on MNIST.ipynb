{
 "metadata": {
  "name": "",
  "signature": "sha256:eeddd97876858b473ea140dd2fc5bafd4f8fb1599d3e9527a394e133fa011719"
 },
 "nbformat": 3,
 "nbformat_minor": 0,
 "worksheets": [
  {
   "cells": [
    {
     "cell_type": "code",
     "collapsed": false,
     "input": [
      "import cPickle\n",
      "import gzip\n",
      "import time\n",
      "\n",
      "import numpy as np\n",
      "import theano.tensor as T\n",
      "\n",
      "import climin.stops\n",
      "\n",
      "import climin.initialize\n",
      "import climin.project\n",
      "import climin.schedule\n",
      "import climin.mathadapt as ma\n",
      "\n",
      "from breze.learn.mlp import Mlp, FastDropoutNetwork\n",
      "\n",
      "from breze.learn.data import one_hot\n",
      "import breze.learn.base"
     ],
     "language": "python",
     "metadata": {},
     "outputs": [],
     "prompt_number": 1
    },
    {
     "cell_type": "code",
     "collapsed": false,
     "input": [
      "datafile = '../mnist.pkl.gz'\n",
      "# Load data.                                                                                                   \n",
      "\n",
      "with gzip.open(datafile,'rb') as f:                                                                        \n",
      "    train_set, val_set, test_set = cPickle.load(f)                                                       \n",
      "\n",
      "X, Z = train_set                                                                                               \n",
      "VX, VZ = val_set\n",
      "TX, TZ = test_set\n",
      "\n",
      "Z = one_hot(Z, 10)\n",
      "VZ = one_hot(VZ, 10)\n",
      "TZ = one_hot(TZ, 10)\n",
      "\n",
      "image_dims = 28, 28\n",
      "\n",
      "X, Z, VX, VZ, TX, TZ = [breze.learn.base.cast_array_to_local_type(i) for i in (X, Z, VX, VZ, TX, TZ)]"
     ],
     "language": "python",
     "metadata": {},
     "outputs": [],
     "prompt_number": 2
    },
    {
     "cell_type": "code",
     "collapsed": false,
     "input": [
      "max_passes = 300\n",
      "batch_size = 250\n",
      "max_iter = max_passes * X.shape[0] / batch_size\n",
      "n_report = X.shape[0] / batch_size\n",
      "\n",
      "stop = climin.stops.AfterNIterations(max_iter)\n",
      "pause = climin.stops.ModuloNIterations(n_report)\n",
      "\n",
      "optimizer = 'adam'\n",
      "\n",
      "typ = 'fd'\n",
      "if typ == 'plain':\n",
      "    m = Mlp(784, [512, 512], 10, \n",
      "            hidden_transfers=['rectifier', 'rectifier'], out_transfer='softmax',\n",
      "            loss='cat_ce', \n",
      "            optimizer=optimizer, batch_size=batch_size, max_iter=max_iter)\n",
      "elif typ == 'fd':\n",
      "    m = FastDropoutNetwork(784, [512, 512], 10, \n",
      "            hidden_transfers=['rectifier', 'rectifier'], out_transfer='sigmoid',\n",
      "            loss='bern_ces', \n",
      "            p_dropout_inpt=.2,\n",
      "            p_dropout_hiddens=.1,\n",
      "            optimizer=optimizer, batch_size=batch_size, max_iter=max_iter)\n",
      "        \n",
      "climin.initialize.randomize_normal(m.parameters.data, 0, 1e-2)\n",
      "\n",
      "losses = []\n",
      "print 'max iter', max_iter"
     ],
     "language": "python",
     "metadata": {},
     "outputs": [
      {
       "output_type": "stream",
       "stream": "stdout",
       "text": [
        "max iter 60000\n"
       ]
      }
     ],
     "prompt_number": 12
    },
    {
     "cell_type": "code",
     "collapsed": false,
     "input": [
      "start = time.time()\n",
      "# Set up a nice printout.\n",
      "keys = '#', 'loss', 'val loss', 'seconds', 'wd', 'train emp', 'val emp', 'test emp'\n",
      "max_len = max(len(i) for i in keys)\n",
      "header = '\\t'.join(i for i in keys)\n",
      "print header\n",
      "print '-' * len(header)\n",
      "\n",
      "for i, info in enumerate(m.powerfit((X, Z), (VX, VZ), stop, pause)):\n",
      "    if info['n_iter'] % n_report != 0:\n",
      "        continue\n",
      "    passed = time.time() - start\n",
      "    losses.append((info['loss'], info['val_loss']))\n",
      "    \n",
      "    info.update({\n",
      "        'time': passed,\n",
      "        #'train_emp': ma.scalar(f_n_wrong(X, Z)),\n",
      "        #'val_emp': ma.scalar(f_n_wrong(VX, VZ)),\n",
      "        #'test_emp': ma.scalar(f_n_wrong(TX, TZ)),\n",
      "    })\n",
      "    #row = '%(n_iter)i\\t%(time)g\\t\\t%(loss)g\\t%(val_loss)g\\t%(train_emp)g\\t%(val_emp)g\\t%(test_emp)g' % info\n",
      "    row = '%(n_iter)i\\t%(time)g\\t\\t%(loss)g\\t%(val_loss)g' % info\n",
      "    print row"
     ],
     "language": "python",
     "metadata": {},
     "outputs": []
    },
    {
     "cell_type": "code",
     "collapsed": false,
     "input": [
      "Y = m.predict(X)\n",
      "VY = m.predict(VX)\n",
      "TY = m.predict(TX)"
     ],
     "language": "python",
     "metadata": {},
     "outputs": [],
     "prompt_number": 10
    },
    {
     "cell_type": "code",
     "collapsed": false,
     "input": [
      "print 'incorrect samples train/val/test:  %i/%i/%i' % (\n",
      "    (Y[:, :10].argmax(1) != Z.argmax(1)).sum(),\n",
      "    (VY[:, :10].argmax(1) != VZ.argmax(1)).sum(),\n",
      "    (TY[:, :10].argmax(1) != TZ.argmax(1)).sum())"
     ],
     "language": "python",
     "metadata": {},
     "outputs": [
      {
       "output_type": "stream",
       "stream": "stdout",
       "text": [
        "incorrect samples train/val/test:  2812/519/582\n"
       ]
      }
     ],
     "prompt_number": 11
    }
   ],
   "metadata": {}
  }
 ]
}